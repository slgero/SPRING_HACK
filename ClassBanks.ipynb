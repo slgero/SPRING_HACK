{
 "cells": [
  {
   "cell_type": "markdown",
   "metadata": {},
   "source": [
    "# ТЕСТОВЫЙ ВАРИАНТ"
   ]
  },
  {
   "cell_type": "code",
   "execution_count": 403,
   "metadata": {},
   "outputs": [],
   "source": [
    "from io import BytesIO\n",
    "from haversine import haversine #pip install haversine\n",
    "import requests"
   ]
  },
  {
   "cell_type": "code",
   "execution_count": 408,
   "metadata": {},
   "outputs": [],
   "source": [
    "class Banks:\n",
    "    def __init__(self, file_name, APP_ID, APP_CODE, is_fiz=True):\n",
    "        self.APP_ID = APP_ID\n",
    "        self.APP_CODE = APP_CODE\n",
    "        self.is_fiz = is_fiz\n",
    "        try:\n",
    "            with open(file_name) as f:\n",
    "                self.data = json.loads(f.read())\n",
    "        except Exception:\n",
    "            print(\"Проблемы с фалом, невозможно прочитать.\")\n",
    "            self.data = None\n",
    "\n",
    "    def distant_sphera(self, i):\n",
    "        next_bank = (float(test[i]['lon']), float(test[i]['lat']))\n",
    "        return haversine(self.user, next_bank)\n",
    "    \n",
    "    def get_me_nearest_bank(self, lat, lon):\n",
    "        if self.data:\n",
    "            self.user = (lat, lon)\n",
    "            self.tmp = dict()\n",
    "            for i in range(len(self.data)):\n",
    "                self.tmp[i] = self.distant_sphera(i)\n",
    "            self.nearest_banks = sorted(a.tmp.items(), key=operator.itemgetter(1))[0:10]\n",
    "            self.__index = -1\n",
    "            self.next_bank()\n",
    "        \n",
    "    def next_bank(self):\n",
    "        self.__index += 1\n",
    "        if self.__index > len(self.nearest_banks):\n",
    "            self.__index = 0\n",
    "        self.__i = self.nearest_banks[self.__index][0]\n",
    "        self.lat = self.data[self.__i]['lat']\n",
    "        self.lon = self.data[self.__i]['lon']\n",
    "        \n",
    "    def get_photo(self):\n",
    "        url = f\"https://image.maps.api.here.com/mia/1.6/mapview?app_id={self.APP_ID}\\\n",
    "        &app_code={self.APP_CODE}&lat={self.lat}&lon={self.lon}&vt=0&z=14\"\n",
    "        return BytesIO(requests.get(url).content)\n",
    "    \n",
    "    def get_adress(self):\n",
    "        return self.data[self.__i]['address']\n",
    "        \n",
    "    def get_work_time(self):\n",
    "        return self.data[self.__i]['workt']\n",
    "    \n",
    "    def get_number(self):\n",
    "        return test[222]['phones'][self.is_fiz]['number'].strip()\n",
    "    \n",
    "    def get_dist(self):\n",
    "        return float(\"{0:.1f}\".format(self.nearest_banks[self.__index][1]))\n",
    "    def get_information(self):\n",
    "        print(f'Ближайщий банк находится в {a.get_dist()}км от Вас.\\nАдрес: {a.get_adress()}.\\\n",
    "        .\\nЧасы работы: {a.get_work_time()}.\\nТелефон: {a.get_number()}.')"
   ]
  },
  {
   "cell_type": "code",
   "execution_count": 409,
   "metadata": {},
   "outputs": [
    {
     "name": "stdout",
     "output_type": "stream",
     "text": [
      "Ближайщий банк находится в 0.0км от Вас.\n",
      "Адрес: город Москва, площадь Победы, дом 2, корпус 1.        .\n",
      "Часы работы: Пн-Пт 09:00-19:00, без перерыва.\n",
      "Телефон: +7 (495) 7237700.\n"
     ]
    }
   ],
   "source": [
    "a = Banks('bigdata.json', \"WJKW4xjeKvXn9u5eZ7cw\", \"2kxrT-Jmes601s_BwANBYw\")\n",
    "a.get_me_nearest_bank(55.737684, 37.521156)\n",
    "# a.get_information()\n",
    "# a.next_bank()\n",
    "# print(\"*\" * 20)\n",
    "a.get_information()\n",
    "# print(a.get_adress())\n",
    "# print(a.get_work_time())\n",
    "# print(a.get_number())\n",
    "# print(a.get_dist())"
   ]
  },
  {
   "cell_type": "code",
   "execution_count": 406,
   "metadata": {},
   "outputs": [
    {
     "name": "stdout",
     "output_type": "stream",
     "text": [
      "город Москва, проспект Кутузовский, дом 27\n",
      "Пн-Пт 09:00-20:00, без перерыва\n",
      "+7 (495) 7237700\n",
      "1.7\n"
     ]
    }
   ],
   "source": [
    "a.next_bank()\n",
    "print(a.get_adress())\n",
    "print(a.get_work_time())\n",
    "print(a.get_number())\n",
    "print(a.get_dist())"
   ]
  },
  {
   "cell_type": "code",
   "execution_count": 407,
   "metadata": {},
   "outputs": [
    {
     "name": "stdout",
     "output_type": "stream",
     "text": [
      "город Москва, проезд 1-й Красногвардейский, дом 15\n",
      "Пн-Пт 09:00-20:00, без перерыва\n",
      "+7 (495) 7237700\n",
      "1.8\n"
     ]
    }
   ],
   "source": [
    "a.next_bank()\n",
    "print(a.get_adress())\n",
    "print(a.get_work_time())\n",
    "print(a.get_number())\n",
    "print(a.get_dist())"
   ]
  }
 ],
 "metadata": {
  "kernelspec": {
   "display_name": "Python 3",
   "language": "python",
   "name": "python3"
  },
  "language_info": {
   "codemirror_mode": {
    "name": "ipython",
    "version": 3
   },
   "file_extension": ".py",
   "mimetype": "text/x-python",
   "name": "python",
   "nbconvert_exporter": "python",
   "pygments_lexer": "ipython3",
   "version": "3.7.3"
  }
 },
 "nbformat": 4,
 "nbformat_minor": 2
}
